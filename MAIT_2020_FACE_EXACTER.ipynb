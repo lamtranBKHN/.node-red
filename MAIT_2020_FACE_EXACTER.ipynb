{
  "nbformat": 4,
  "nbformat_minor": 0,
  "metadata": {
    "colab": {
      "name": "MAIT_2020_FACE_EXACTER.ipynb",
      "provenance": [],
      "collapsed_sections": [],
      "mount_file_id": "1yd3G_5w-8RSHaAqWtVLWZjasHHFpUI6z",
      "authorship_tag": "ABX9TyMYHHT9e0jzrcwY9pP91w/C",
      "include_colab_link": true
    },
    "kernelspec": {
      "name": "python3",
      "display_name": "Python 3"
    },
    "accelerator": "GPU"
  },
  "cells": [
    {
      "cell_type": "markdown",
      "metadata": {
        "id": "view-in-github",
        "colab_type": "text"
      },
      "source": [
        "<a href=\"https://colab.research.google.com/github/lamtranBKHN/.node-red/blob/master/MAIT_2020_FACE_EXACTER.ipynb\" target=\"_parent\"><img src=\"https://colab.research.google.com/assets/colab-badge.svg\" alt=\"Open In Colab\"/></a>"
      ]
    },
    {
      "cell_type": "code",
      "metadata": {
        "id": "xSjwE-bq6n8z"
      },
      "source": [
        "import os\r\n",
        "\r\n",
        "from os import listdir\r\n",
        "from os.path import isfile, join\r\n",
        "import cv2\r\n",
        "import numpy\r\n",
        "\r\n",
        "IM_SIZE = 500\r\n",
        "face_cascade = cv2.CascadeClassifier('/content/drive/Shareddrives/Lâm_Trần/MAIT2020/temp/haarcascade_frontalface_alt.xml')\r\n",
        "\r\n",
        "# Folder stores all face-data\r\n",
        "parent_dir = '/content/drive/Shareddrives/Lâm_Trần/MAIT2020/Lab_Face_data'\r\n",
        "# Folder you want to save face data\r\n",
        "store_dir = '/content/drive/Shareddrives/Lâm_Trần/MAIT2020/Lab_Face_data_Exacted_LargerFace'\r\n",
        "# Create store directory if not exist\r\n",
        "if not os.path.exists(store_dir):\r\n",
        "    os.makedirs(store_dir)\r\n",
        "\r\n",
        "# extract a single face from a given photograph\r\n",
        "def extract_face(imgPath, storePath):\r\n",
        "    mypath = imgPath\r\n",
        "    onlyfiles = [f for f in listdir(mypath) if isfile(join(mypath, f))]\r\n",
        "    images = numpy.empty(len(onlyfiles), dtype=object)\r\n",
        "    for n in range(0, len(onlyfiles)):\r\n",
        "        images[n] = cv2.imread(join(mypath, onlyfiles[n]), 1)\r\n",
        "        gray = cv2.cvtColor(images[n], cv2.COLOR_BGR2GRAY)\r\n",
        "        # faces = face_cascade.detectMultiScale(gray, 1.05, 5)\r\n",
        "        faces = face_cascade.detectMultiScale(gray, \r\n",
        "                                 scaleFactor=1.3, \r\n",
        "                                 minNeighbors=4, \r\n",
        "                                 minSize=(30, 30),\r\n",
        "                                 flags=cv2.CASCADE_SCALE_IMAGE)\r\n",
        "        for (x, y, w, h) in faces:\r\n",
        "            if y > h//3:\r\n",
        "                y_new = y - h//3\r\n",
        "            else:\r\n",
        "                y_new = y\r\n",
        "            if x > w//3:\r\n",
        "                x_new = x - w//3\r\n",
        "            else:\r\n",
        "                x_new = x\r\n",
        "            new = images[n][y_new:(y + h + h // 3), x_new:(x + w + w // 3)]\r\n",
        "            new = cv2.resize(new, (IM_SIZE, IM_SIZE))\r\n",
        "            cv2.imwrite(os.path.join(storePath , \"image%04i.jpg\" % n), new)\r\n",
        "\r\n",
        "\r\n",
        "for fname in os.listdir(parent_dir):\r\n",
        "    personal_img_path = os.path.join(parent_dir, fname) \r\n",
        "    store_path = os.path.join(store_dir, fname) \r\n",
        "    # Create store directory if not exist\r\n",
        "    if not os.path.exists(store_path):\r\n",
        "        os.makedirs(store_path)\r\n",
        "    extract_face(personal_img_path, store_path)"
      ],
      "execution_count": null,
      "outputs": []
    }
  ]
}